{
 "cells": [
  {
   "cell_type": "code",
   "execution_count": null,
   "id": "a36bdb16",
   "metadata": {},
   "outputs": [],
   "source": [
    "import os\n",
    "import numpy as np\n",
    "import pandas as pd\n",
    "import random\n",
    "import matplotlib.pyplot as plt\n",
    "import seaborn as sns\n",
    "\n",
    "from contextlib import contextmanager\n",
    "from time import time\n",
    "from tqdm import tqdm\n",
    "import lightgbm as lgbm\n",
    "import category_encoders as ce\n",
    "\n",
    "from tensorflow.keras.utils import to_categorical\n",
    "from sklearn.metrics import classification_report, log_loss, accuracy_score\n",
    "from sklearn.metrics import mean_squared_error\n",
    "from sklearn.model_selection import KFold"
   ]
  },
  {
   "cell_type": "code",
   "execution_count": null,
   "id": "707bca3e",
   "metadata": {},
   "outputs": [],
   "source": [
    "data0=pd.read_csv('../input/oesophageal-cancer-patient-data/Esophageal Cancer Clinical Data.csv')"
   ]
  },
  {
   "cell_type": "code",
   "execution_count": null,
   "id": "98e17ea5",
   "metadata": {},
   "outputs": [],
   "source": [
    "print(data0.columns.tolist())"
   ]
  },
  {
   "cell_type": "code",
   "execution_count": null,
   "id": "e1c75f3b",
   "metadata": {},
   "outputs": [],
   "source": [
    "data0['vital_status'].value_counts()"
   ]
  },
  {
   "cell_type": "code",
   "execution_count": null,
   "id": "6c37be22",
   "metadata": {},
   "outputs": [],
   "source": [
    "list_cols = ['patient_barcode', 'tissue_source_site', 'patient_id', 'bcr_patient_uuid', 'informed_consent_verified', 'icd_o_3_site', 'icd_o_3_histology', 'icd_10', 'tissue_prospective_collection_indicator', 'tissue_retrospective_collection_indicator', 'country_of_birth', 'gender', 'country_of_procurement', 'state_province_of_procurement', 'city_of_procurement', 'race_list', 'ethnicity', 'other_dx', 'history_of_neoadjuvant_treatment', 'person_neoplasm_cancer_status', 'vital_status', 'alcohol_history_documented', 'reflux_history', 'antireflux_treatment_types', 'h_pylori_infection', 'initial_diagnosis_by', 'barretts_esophagus', 'goblet_cells_present', 'history_of_esophageal_cancer', 'has_new_tumor_events_information', 'has_follow_ups_information', 'has_drugs_information', 'has_radiations_information', 'project', 'stage_event_system_version', 'stage_event_clinical_stage', 'stage_event_pathologic_stage', 'stage_event_tnm_categories', 'primary_pathology_tumor_tissue_site', 'primary_pathology_esophageal_tumor_cental_location', 'primary_pathology_esophageal_tumor_involvement_sites', 'primary_pathology_histological_type', 'primary_pathology_columnar_metaplasia_present', 'primary_pathology_columnar_mucosa_goblet_cell_present', 'primary_pathology_columnar_mucosa_dysplasia', 'primary_pathology_neoplasm_histologic_grade', 'primary_pathology_initial_pathologic_diagnosis_method', 'primary_pathology_init_pathology_dx_method_other', 'primary_pathology_lymph_node_metastasis_radiographic_evidence', 'primary_pathology_primary_lymph_node_presentation_assessment', 'primary_pathology_planned_surgery_status', 'primary_pathology_treatment_prior_to_surgery', 'primary_pathology_residual_tumor', 'primary_pathology_radiation_therapy', 'primary_pathology_postoperative_rx_tx']\n",
    "ce_ohe = ce.OrdinalEncoder(cols=list_cols,handle_unknown='impute')\n",
    "data1 = ce_ohe.fit_transform(data0)\n",
    "data1"
   ]
  },
  {
   "cell_type": "code",
   "execution_count": null,
   "id": "618b3428",
   "metadata": {},
   "outputs": [],
   "source": [
    "data1=data1.fillna(0)"
   ]
  },
  {
   "cell_type": "code",
   "execution_count": null,
   "id": "6bd0d5c1",
   "metadata": {},
   "outputs": [],
   "source": [
    "# columns on primary pathology\n",
    "columns_focused=['primary_pathology_tumor_tissue_site', 'primary_pathology_esophageal_tumor_cental_location', 'primary_pathology_esophageal_tumor_involvement_sites', 'primary_pathology_histological_type', 'primary_pathology_columnar_metaplasia_present', 'primary_pathology_columnar_mucosa_goblet_cell_present', 'primary_pathology_columnar_mucosa_dysplasia', 'primary_pathology_neoplasm_histologic_grade', 'primary_pathology_initial_pathologic_diagnosis_method', 'primary_pathology_init_pathology_dx_method_other', 'primary_pathology_lymph_node_metastasis_radiographic_evidence', 'primary_pathology_primary_lymph_node_presentation_assessment', 'primary_pathology_planned_surgery_status', 'primary_pathology_treatment_prior_to_surgery', 'primary_pathology_residual_tumor', 'primary_pathology_radiation_therapy', 'primary_pathology_postoperative_rx_tx']\n",
    "\n",
    "# columns on lifestyle\n",
    "# columns_focused=['tobacco_smoking_history', 'age_began_smoking_in_years', 'stopped_smoking_year', 'number_pack_years_smoked', 'frequency_of_alcohol_consumption', 'amount_of_alcohol_consumption_per_day',  ]"
   ]
  },
  {
   "cell_type": "code",
   "execution_count": null,
   "id": "4f8712d9",
   "metadata": {},
   "outputs": [],
   "source": [
    "target=['vital_status']\n",
    "datay=data1[target]\n",
    "datax=data1[columns_focused]"
   ]
  },
  {
   "cell_type": "code",
   "execution_count": null,
   "id": "efb43f64",
   "metadata": {},
   "outputs": [],
   "source": [
    "n=len(data1)\n",
    "print(n)"
   ]
  },
  {
   "cell_type": "code",
   "execution_count": null,
   "id": "6866dac2",
   "metadata": {},
   "outputs": [],
   "source": [
    "N=list(range(n))\n",
    "random.seed(2021)\n",
    "random.shuffle(N)"
   ]
  },
  {
   "cell_type": "code",
   "execution_count": null,
   "id": "85e6c57d",
   "metadata": {},
   "outputs": [],
   "source": [
    "trainX=datax.loc[N[0:(n//4)*3]]\n",
    "trainY=datay.loc[N[0:(n//4)*3]]\n",
    "testX=datax.loc[N[(n//4)*3:]]\n",
    "testY=datay.loc[N[(n//4)*3:]]"
   ]
  },
  {
   "cell_type": "code",
   "execution_count": null,
   "id": "516d04d5",
   "metadata": {},
   "outputs": [],
   "source": [
    "print(trainX.shape)\n",
    "print(testX.shape)"
   ]
  },
  {
   "cell_type": "code",
   "execution_count": null,
   "id": "dceff51a",
   "metadata": {},
   "outputs": [],
   "source": [
    "df_columns = list(datax.columns)\n",
    "print(df_columns)"
   ]
  },
  {
   "cell_type": "code",
   "execution_count": null,
   "id": "6ccfd328",
   "metadata": {},
   "outputs": [],
   "source": [
    "train_df=trainX\n",
    "test_df=testX"
   ]
  },
  {
   "cell_type": "code",
   "execution_count": null,
   "id": "274b87d1",
   "metadata": {},
   "outputs": [],
   "source": [
    "train_df.columns=df_columns\n",
    "test_df.columns=df_columns"
   ]
  },
  {
   "cell_type": "code",
   "execution_count": null,
   "id": "065c1e92",
   "metadata": {},
   "outputs": [],
   "source": [
    "def create_numeric_feature(input_df):\n",
    "    use_columns = df_columns \n",
    "    return input_df[use_columns].copy()"
   ]
  },
  {
   "cell_type": "code",
   "execution_count": null,
   "id": "9c87ab5f",
   "metadata": {},
   "outputs": [],
   "source": [
    "from contextlib import contextmanager\n",
    "from time import time\n",
    "\n",
    "class Timer:\n",
    "    def __init__(self, logger=None, format_str='{:.3f}[s]', prefix=None, suffix=None, sep=' '):\n",
    "\n",
    "        if prefix: format_str = str(prefix) + sep + format_str\n",
    "        if suffix: format_str = format_str + sep + str(suffix)\n",
    "        self.format_str = format_str\n",
    "        self.logger = logger\n",
    "        self.start = None\n",
    "        self.end = None\n",
    "\n",
    "    @property\n",
    "    def duration(self):\n",
    "        if self.end is None:\n",
    "            return 0\n",
    "        return self.end - self.start\n",
    "\n",
    "    def __enter__(self):\n",
    "        self.start = time()\n",
    "\n",
    "    def __exit__(self, exc_type, exc_val, exc_tb):\n",
    "        self.end = time()\n",
    "        out_str = self.format_str.format(self.duration)\n",
    "        if self.logger:\n",
    "            self.logger.info(out_str)\n",
    "        else:\n",
    "            print(out_str)"
   ]
  },
  {
   "cell_type": "code",
   "execution_count": null,
   "id": "a0d28c98",
   "metadata": {},
   "outputs": [],
   "source": [
    "def to_feature(input_df):\n",
    "\n",
    "    processors = [\n",
    "        create_numeric_feature,\n",
    "    ]\n",
    "    \n",
    "    out_df = pd.DataFrame()\n",
    "    \n",
    "    for func in tqdm(processors, total=len(processors)):\n",
    "        with Timer(prefix='create' + func.__name__ + ' '):\n",
    "            _df = func(input_df)\n",
    "\n",
    "        assert len(_df) == len(input_df), func.__name__\n",
    "        out_df = pd.concat([out_df, _df], axis=1)\n",
    "        \n",
    "    return out_df"
   ]
  },
  {
   "cell_type": "code",
   "execution_count": null,
   "id": "d596b128",
   "metadata": {},
   "outputs": [],
   "source": [
    "train_feat_df = to_feature(train_df)\n",
    "test_feat_df = to_feature(test_df)"
   ]
  },
  {
   "cell_type": "code",
   "execution_count": null,
   "id": "7c68fc03",
   "metadata": {},
   "outputs": [],
   "source": [
    "import lightgbm as lgbm\n",
    "from sklearn.metrics import mean_squared_error\n",
    "\n",
    "def fit_lgbm(X, y, cv, \n",
    "             params: dict=None, \n",
    "             verbose: int=50):\n",
    "\n",
    "    if params is None:\n",
    "        params = {}\n",
    "\n",
    "    models = []\n",
    "    oof_pred = np.zeros_like(y, dtype=np.float)\n",
    "\n",
    "    for i, (idx_train, idx_valid) in enumerate(cv): \n",
    "        x_train, y_train = X[idx_train], y[idx_train]\n",
    "        x_valid, y_valid = X[idx_valid], y[idx_valid]\n",
    "\n",
    "        clf = lgbm.LGBMRegressor(**params)\n",
    "        \n",
    "        with Timer(prefix='fit fold={} '.format(i)):\n",
    "            clf.fit(x_train, y_train, \n",
    "                    eval_set=[(x_valid, y_valid)],  \n",
    "                    early_stopping_rounds=100,\n",
    "                    verbose=verbose)\n",
    "\n",
    "        pred_i = clf.predict(x_valid)\n",
    "        oof_pred[idx_valid] = pred_i\n",
    "        models.append(clf)\n",
    "        print(f'Fold {i} RMSLE: {mean_squared_error(y_valid, pred_i) ** .5:.4f}')\n",
    "        print()\n",
    "\n",
    "    score = mean_squared_error(y, oof_pred) ** .5\n",
    "    print('-' * 50)\n",
    "    print('FINISHED | Whole RMSLE: {:.4f}'.format(score))\n",
    "    return oof_pred, models\n",
    "params = {"
   ]
  },
  {
   "cell_type": "code",
   "execution_count": null,
   "id": "5ae26568",
   "metadata": {},
   "outputs": [],
   "source": [
    "params = {\n",
    "    'objective': 'rmse', \n",
    "    'learning_rate': .1,\n",
    "    'reg_lambda': 1.,\n",
    "    'reg_alpha': .1,\n",
    "    'max_depth': 5, \n",
    "    'n_estimators': 10000, \n",
    "    'colsample_bytree': .5, \n",
    "    'min_child_samples': 10,\n",
    "    'subsample_freq': 3,\n",
    "    'subsample': .9,\n",
    "    'importance_type': 'gain', \n",
    "    'random_state': 71,\n",
    "    'num_leaves': 62\n",
    "}"
   ]
  },
  {
   "cell_type": "code",
   "execution_count": null,
   "id": "b1612ea0",
   "metadata": {},
   "outputs": [],
   "source": [
    "y = trainY\n",
    "print(y.shape)\n",
    "ydf=pd.DataFrame(y)\n",
    "ydf"
   ]
  },
  {
   "cell_type": "code",
   "execution_count": null,
   "id": "cd0d5ed7",
   "metadata": {},
   "outputs": [],
   "source": [
    "from sklearn.model_selection import KFold\n",
    "\n",
    "for i in range(1):\n",
    "    fold = KFold(n_splits=5, shuffle=True, random_state=71)\n",
    "    ydfi=ydf.iloc[:,i]\n",
    "    y=np.array(ydfi)\n",
    "    cv = list(fold.split(train_feat_df, y))\n",
    "    oof, models = fit_lgbm(train_feat_df.values, y, cv, params=params, verbose=500)\n",
    "    \n",
    "    fig,ax = plt.subplots(figsize=(6,6))\n",
    "    ax.set_title(target[i],fontsize=20)\n",
    "    ax.set_xlabel('ACTUAL TRAIN '+target[i],fontsize=12)\n",
    "    ax.set_ylabel('PREDICTED TRAIN '+target[i],fontsize=12)\n",
    "    ax.scatter(y,oof)"
   ]
  },
  {
   "cell_type": "code",
   "execution_count": null,
   "id": "6e785b73",
   "metadata": {},
   "outputs": [],
   "source": [
    "def visualize_importance(models, feat_train_df):\n",
    "\n",
    "    feature_importance_df = pd.DataFrame()\n",
    "    for i, model in enumerate(models):\n",
    "        _df = pd.DataFrame()\n",
    "        _df['feature_importance'] = model.feature_importances_\n",
    "        _df['column'] = feat_train_df.columns\n",
    "        _df['fold'] = i + 1\n",
    "        feature_importance_df = pd.concat([feature_importance_df, _df], \n",
    "                                          axis=0, ignore_index=True)\n",
    "\n",
    "    order = feature_importance_df.groupby('column')\\\n",
    "        .sum()[['feature_importance']]\\\n",
    "        .sort_values('feature_importance', ascending=False).index[:30]\n",
    "    \n",
    "    fig, ax = plt.subplots(figsize=(12, max(8, len(order) * .25)))\n",
    "    sns.boxenplot(data=feature_importance_df, \n",
    "                  x='feature_importance', \n",
    "                  y='column', \n",
    "                  order=order, \n",
    "                  ax=ax, \n",
    "                  palette='viridis', \n",
    "                  orient='h')\n",
    "    \n",
    "    ax.tick_params(axis='x', rotation=0)\n",
    "    ax.set_title(target[0]+' Importance')\n",
    "    ax.grid()\n",
    "    fig.tight_layout()\n",
    "     \n",
    "    return fig,ax\n",
    "\n",
    "#fig, ax = visualize_importance(models, train_feat_df)"
   ]
  },
  {
   "cell_type": "code",
   "execution_count": null,
   "id": "abd8aa44",
   "metadata": {},
   "outputs": [],
   "source": [
    "pred1=[]\n",
    "for i in range(1):\n",
    "    fold = KFold(n_splits=5, shuffle=True, random_state=71)\n",
    "    ydfi=ydf.iloc[:,i]\n",
    "    y=np.array(ydfi)\n",
    "    cv = list(fold.split(train_feat_df, y))\n",
    "    oof, models = fit_lgbm(train_feat_df.values, y, cv, params=params, verbose=500)\n",
    "    fig, ax = visualize_importance(models, train_feat_df)\n",
    "    ax.set_title(target[i]+' Imortance on Primary Pathology',fontsize=20)\n",
    "    pred0 = np.array([model.predict(test_feat_df.values) for model in models])\n",
    "    pred1+=[np.mean(pred0, axis=0)]"
   ]
  },
  {
   "cell_type": "code",
   "execution_count": null,
   "id": "1c23aad4",
   "metadata": {},
   "outputs": [],
   "source": [
    "pred1=np.array(pred1)\n",
    "testY=np.array(testY)"
   ]
  },
  {
   "cell_type": "code",
   "execution_count": null,
   "id": "c36abddb",
   "metadata": {},
   "outputs": [],
   "source": [
    "print(pred1.T.shape)\n",
    "print(testY.shape)"
   ]
  },
  {
   "cell_type": "code",
   "execution_count": null,
   "id": "31c9f045",
   "metadata": {},
   "outputs": [],
   "source": [
    "for i in range(1):\n",
    "    fig,ax = plt.subplots(figsize=(6,6))\n",
    "    ax.set_title(target[i],fontsize=20)\n",
    "    ax.set_xlabel('ACTUAL TEST '+target[i],fontsize=12)\n",
    "    ax.set_ylabel('PRDICTED TEST '+target[i],fontsize=12)\n",
    "    ax.scatter(testY[:,i],pred1.T[:,i])"
   ]
  },
  {
   "cell_type": "code",
   "execution_count": null,
   "id": "fbbf327b",
   "metadata": {},
   "outputs": [],
   "source": []
  }
 ],
 "metadata": {
  "kernelspec": {
   "display_name": "Python 3 (ipykernel)",
   "language": "python",
   "name": "python3"
  },
  "language_info": {
   "codemirror_mode": {
    "name": "ipython",
    "version": 3
   },
   "file_extension": ".py",
   "mimetype": "text/x-python",
   "name": "python",
   "nbconvert_exporter": "python",
   "pygments_lexer": "ipython3",
   "version": "3.9.16"
  }
 },
 "nbformat": 4,
 "nbformat_minor": 5
}
